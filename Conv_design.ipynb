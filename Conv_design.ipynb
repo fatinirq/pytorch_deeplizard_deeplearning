{
 "cells": [
  {
   "cell_type": "code",
   "execution_count": 2,
   "metadata": {},
   "outputs": [],
   "source": [
    "class Network:\n",
    "    def __init__(self):\n",
    "        self.layer=None\n",
    "    def forward(self,t):\n",
    "        t=self.layer(t)\n",
    "        return t"
   ]
  },
  {
   "cell_type": "code",
   "execution_count": 5,
   "metadata": {},
   "outputs": [],
   "source": [
    "import torch.nn as nn"
   ]
  },
  {
   "cell_type": "code",
   "execution_count": 16,
   "metadata": {},
   "outputs": [],
   "source": [
    "class Network(nn.Module):\n",
    "    def __init__(self):\n",
    "        super(Network,self).__init__()\n",
    "        self.conv1=nn.Conv2d(in_channels=1,out_channels=6,kernel_size=5)\n",
    "        self.conv2=nn.Conv2d(in_channels=6,out_channels=12,kernel_size=5)\n",
    "        self.fc1=nn.Linear(in_features=12*4*4,out_features=120)\n",
    "        self.fc2=nn.Linear(in_features=120,out_features=60)\n",
    "        self.out=nn.Linear(in_features=60,out_features=10)\n",
    "    def forward(self,t):\n",
    "       #implement forward pass\n",
    "        return t\n",
    "        \n",
    "    "
   ]
  },
  {
   "cell_type": "code",
   "execution_count": 17,
   "metadata": {
    "scrolled": true
   },
   "outputs": [
    {
     "data": {
      "text/plain": [
       "Network(\n",
       "  (conv1): Conv2d(1, 6, kernel_size=(5, 5), stride=(1, 1))\n",
       "  (conv2): Conv2d(6, 12, kernel_size=(5, 5), stride=(1, 1))\n",
       "  (fc1): Linear(in_features=192, out_features=120, bias=True)\n",
       "  (fc2): Linear(in_features=120, out_features=60, bias=True)\n",
       "  (out): Linear(in_features=60, out_features=10, bias=True)\n",
       ")"
      ]
     },
     "execution_count": 17,
     "metadata": {},
     "output_type": "execute_result"
    }
   ],
   "source": [
    "network = Network()\n",
    "network"
   ]
  },
  {
   "cell_type": "code",
   "execution_count": 21,
   "metadata": {
    "scrolled": true
   },
   "outputs": [
    {
     "data": {
      "text/plain": [
       "Parameter containing:\n",
       "tensor([[[[-0.0929,  0.1873,  0.0930, -0.0286, -0.0208],\n",
       "          [ 0.0014,  0.0787, -0.0040,  0.0804,  0.0709],\n",
       "          [ 0.0898,  0.1301, -0.1903, -0.0524,  0.0497],\n",
       "          [ 0.0769,  0.0633,  0.0837, -0.0961,  0.1279],\n",
       "          [-0.0832,  0.1718, -0.1497,  0.1949,  0.1324]]],\n",
       "\n",
       "\n",
       "        [[[ 0.0785, -0.0842, -0.0300, -0.1349,  0.1424],\n",
       "          [ 0.0821, -0.0814,  0.0468,  0.1089, -0.0274],\n",
       "          [ 0.1963, -0.0785, -0.0991, -0.1638,  0.1939],\n",
       "          [-0.0899, -0.1764,  0.1782,  0.0650, -0.1762],\n",
       "          [ 0.1732,  0.0933, -0.0094, -0.0930, -0.0595]]],\n",
       "\n",
       "\n",
       "        [[[-0.0188, -0.1984,  0.1609, -0.1780,  0.1694],\n",
       "          [-0.1019,  0.1844, -0.1312,  0.0536, -0.0390],\n",
       "          [ 0.1173,  0.1311, -0.0967,  0.1532,  0.1491],\n",
       "          [ 0.0933, -0.1561, -0.0078,  0.1929, -0.1732],\n",
       "          [-0.0998,  0.0698,  0.0267,  0.0387,  0.1052]]],\n",
       "\n",
       "\n",
       "        [[[-0.0702,  0.1671,  0.0642,  0.0973, -0.0589],\n",
       "          [ 0.1579,  0.0605, -0.0008, -0.1748,  0.1913],\n",
       "          [ 0.0569, -0.1932,  0.0424, -0.0387,  0.0234],\n",
       "          [ 0.0130, -0.1902, -0.0635, -0.0048,  0.1272],\n",
       "          [ 0.0885, -0.1404, -0.0545,  0.1523, -0.0443]]],\n",
       "\n",
       "\n",
       "        [[[-0.0890, -0.0652, -0.1839,  0.1585,  0.1679],\n",
       "          [ 0.1120, -0.0147, -0.1492, -0.0849, -0.0083],\n",
       "          [-0.1233,  0.0659,  0.1452,  0.1476,  0.0982],\n",
       "          [-0.0328, -0.0975,  0.0843,  0.0284, -0.0686],\n",
       "          [ 0.1082, -0.1512, -0.0875,  0.1111, -0.0029]]],\n",
       "\n",
       "\n",
       "        [[[ 0.1381, -0.1392,  0.0434, -0.0916,  0.0279],\n",
       "          [-0.1582, -0.1437,  0.1510, -0.1068,  0.1865],\n",
       "          [-0.0346, -0.0968,  0.1311,  0.0273, -0.1896],\n",
       "          [ 0.0088,  0.1024,  0.0523,  0.1152,  0.1262],\n",
       "          [-0.1642, -0.1293,  0.1430, -0.0449, -0.0872]]]], requires_grad=True)"
      ]
     },
     "execution_count": 21,
     "metadata": {},
     "output_type": "execute_result"
    }
   ],
   "source": [
    "network.conv1.weight"
   ]
  },
  {
   "cell_type": "code",
   "execution_count": null,
   "metadata": {},
   "outputs": [],
   "source": []
  }
 ],
 "metadata": {
  "kernelspec": {
   "display_name": "Python 3",
   "language": "python",
   "name": "python3"
  },
  "language_info": {
   "codemirror_mode": {
    "name": "ipython",
    "version": 3
   },
   "file_extension": ".py",
   "mimetype": "text/x-python",
   "name": "python",
   "nbconvert_exporter": "python",
   "pygments_lexer": "ipython3",
   "version": "3.8.2"
  }
 },
 "nbformat": 4,
 "nbformat_minor": 4
}
